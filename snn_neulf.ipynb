{
 "cells": [
  {
   "cell_type": "code",
   "execution_count": 2,
   "id": "956ce2a7",
   "metadata": {},
   "outputs": [
    {
     "name": "stdout",
     "output_type": "stream",
     "text": [
      "torch.Size([1, 3])\n"
     ]
    },
    {
     "data": {
      "text/plain": [
       "==========================================================================================\n",
       "Layer (type:depth-idx)                   Output Shape              Param #\n",
       "==========================================================================================\n",
       "Nerf4D_relu_ps                           [1, 3]                    50,177\n",
       "├─Linear: 1-1                            [1, 256]                  1,280\n",
       "├─ModuleList: 1-2                        --                        --\n",
       "│    └─Linear: 2-1                       [1, 256]                  65,792\n",
       "│    └─Linear: 2-2                       [1, 256]                  65,792\n",
       "│    └─Linear: 2-3                       [1, 256]                  65,792\n",
       "│    └─Linear: 2-4                       [1, 256]                  65,792\n",
       "│    └─Linear: 2-5                       [1, 256]                  65,792\n",
       "│    └─Linear: 2-6                       [1, 256]                  131,328\n",
       "│    └─Linear: 2-7                       [1, 256]                  65,792\n",
       "│    └─Linear: 2-8                       [1, 256]                  65,792\n",
       "├─Linear: 1-3                            [1, 256]                  65,792\n",
       "├─ModuleList: 1-4                        --                        --\n",
       "│    └─Linear: 2-9                       [1, 128]                  32,896\n",
       "├─Linear: 1-5                            [1, 3]                    387\n",
       "├─Sigmoid: 1-6                           [1, 3]                    --\n",
       "==========================================================================================\n",
       "Total params: 742,404\n",
       "Trainable params: 741,892\n",
       "Non-trainable params: 512\n",
       "Total mult-adds (M): 0.69\n",
       "==========================================================================================\n",
       "Input size (MB): 0.00\n",
       "Forward/backward pass size (MB): 0.02\n",
       "Params size (MB): 2.77\n",
       "Estimated Total Size (MB): 2.79\n",
       "=========================================================================================="
      ]
     },
     "execution_count": 2,
     "metadata": {},
     "output_type": "execute_result"
    }
   ],
   "source": [
    "import torch\n",
    "from torchinfo import summary\n",
    "from snn_model import Nerf4D_relu_ps\n",
    "\n",
    "model = Nerf4D_relu_ps()\n",
    "sample_img_pts = torch.randn(1, 4)#.cuda()\n",
    "print(model(sample_img_pts).shape)\n",
    "summary(model, input_data=sample_img_pts)"
   ]
  },
  {
   "cell_type": "code",
   "execution_count": 1,
   "id": "1adeb063",
   "metadata": {},
   "outputs": [
    {
     "ename": "ModuleNotFoundError",
     "evalue": "No module named 'tensorflow'",
     "output_type": "error",
     "traceback": [
      "\u001b[0;31m---------------------------------------------------------------------------\u001b[0m",
      "\u001b[0;31mModuleNotFoundError\u001b[0m                       Traceback (most recent call last)",
      "\u001b[0;32m/tmp/ipykernel_1291297/1745132162.py\u001b[0m in \u001b[0;36m<module>\u001b[0;34m\u001b[0m\n\u001b[0;32m----> 1\u001b[0;31m \u001b[0;32mimport\u001b[0m \u001b[0mtensorflow\u001b[0m \u001b[0;32mas\u001b[0m \u001b[0mtf\u001b[0m\u001b[0;34m\u001b[0m\u001b[0m\n\u001b[0m\u001b[1;32m      2\u001b[0m \u001b[0;34m\u001b[0m\u001b[0m\n\u001b[1;32m      3\u001b[0m \u001b[0mprint\u001b[0m\u001b[0;34m(\u001b[0m\u001b[0mtf\u001b[0m\u001b[0;34m.\u001b[0m\u001b[0mconfig\u001b[0m\u001b[0;34m.\u001b[0m\u001b[0mlist_physical_devices\u001b[0m\u001b[0;34m(\u001b[0m\u001b[0;34m'GPU'\u001b[0m\u001b[0;34m)\u001b[0m\u001b[0;34m)\u001b[0m\u001b[0;34m\u001b[0m\u001b[0m\n",
      "\u001b[0;31mModuleNotFoundError\u001b[0m: No module named 'tensorflow'"
     ]
    }
   ],
   "source": [
    "import tensorflow as tf\n",
    "\n",
    "print(tf.config.list_physical_devices('GPU'))"
   ]
  },
  {
   "cell_type": "code",
   "execution_count": 3,
   "id": "f9d7fa1b",
   "metadata": {},
   "outputs": [
    {
     "name": "stdout",
     "output_type": "stream",
     "text": [
      "Nerf4D_relu_ps(\n",
      "  (pts_linears): ModuleList(\n",
      "    (0): Linear(in_features=256, out_features=256, bias=True)\n",
      "    (1): Linear(in_features=256, out_features=256, bias=True)\n",
      "    (2): Linear(in_features=256, out_features=256, bias=True)\n",
      "    (3): Linear(in_features=256, out_features=256, bias=True)\n",
      "    (4): Linear(in_features=256, out_features=256, bias=True)\n",
      "    (5): Linear(in_features=512, out_features=256, bias=True)\n",
      "    (6): Linear(in_features=256, out_features=256, bias=True)\n",
      "    (7): Linear(in_features=256, out_features=256, bias=True)\n",
      "  )\n",
      "  (views_linears): ModuleList(\n",
      "    (0): Linear(in_features=256, out_features=128, bias=True)\n",
      "  )\n",
      "  (feature_linear): Linear(in_features=256, out_features=256, bias=True)\n",
      "  (depth_linear): Linear(in_features=256, out_features=128, bias=True)\n",
      "  (depth_linear2): Linear(in_features=128, out_features=1, bias=True)\n",
      "  (rgb_linear): Linear(in_features=128, out_features=3, bias=True)\n",
      "  (rgb_act): Sigmoid()\n",
      "  (depth_act): Sigmoid()\n",
      "  (input_net): Linear(in_features=4, out_features=256, bias=True)\n",
      "  (input_net_pe): Linear(in_features=64, out_features=256, bias=True)\n",
      ")\n"
     ]
    }
   ],
   "source": [
    "print(model)"
   ]
  },
  {
   "cell_type": "code",
   "execution_count": null,
   "id": "a34725e9",
   "metadata": {},
   "outputs": [],
   "source": []
  }
 ],
 "metadata": {
  "kernelspec": {
   "display_name": "nelf",
   "language": "python",
   "name": "python3"
  },
  "language_info": {
   "codemirror_mode": {
    "name": "ipython",
    "version": 3
   },
   "file_extension": ".py",
   "mimetype": "text/x-python",
   "name": "python",
   "nbconvert_exporter": "python",
   "pygments_lexer": "ipython3",
   "version": "3.7.0"
  }
 },
 "nbformat": 4,
 "nbformat_minor": 5
}
